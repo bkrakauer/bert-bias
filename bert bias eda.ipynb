{
 "cells": [
  {
   "cell_type": "code",
   "execution_count": 1,
   "metadata": {},
   "outputs": [],
   "source": [
    "import tensorflow as tf\n",
    "import numpy as np\n",
    "import pandas as pd\n",
    "import transformers\n",
    "from ipywidgets import interact, interactive\n",
    "import ipywidgets as widgets"
   ]
  },
  {
   "cell_type": "code",
   "execution_count": 2,
   "metadata": {},
   "outputs": [],
   "source": [
    "# first, load the tokenizer and bert model\n",
    "tokenizer = transformers.BertTokenizer.from_pretrained('bert-base-uncased')\n",
    "model = transformers.TFBertForMaskedLM.from_pretrained('bert-base-uncased')"
   ]
  },
  {
   "cell_type": "code",
   "execution_count": 3,
   "metadata": {},
   "outputs": [],
   "source": [
    "def encode_sentence(sentence):\n",
    "    # assuming we have things in global namespace, y'know\n",
    "    # maybe make this in a class\n",
    "    # NOTE that this olnly works on nominative, for now\n",
    "    masked_idx = None\n",
    "    POS = \"nom\"\n",
    "    gendered_pronouns = ['he', 'she', 'his', 'hers', 'him', 'her']\n",
    "    tokenized = tokenizer.tokenize(sentence)\n",
    "    for i, word in enumerate(tokenized):\n",
    "        if word in gendered_pronouns:\n",
    "            #tokenized[i] = \"<MASK>\"\n",
    "            tokenized[i] = tokenizer.mask_token\n",
    "            masked_idx = i\n",
    "            break\n",
    "    else:\n",
    "        print('no gendered pronoun found')\n",
    "    indexed_text = tokenizer.encode(tokenized, add_special_tokens=True, return_tensors='tf')\n",
    "    return (indexed_text, masked_idx)\n",
    "        "
   ]
  },
  {
   "cell_type": "code",
   "execution_count": 4,
   "metadata": {},
   "outputs": [],
   "source": [
    "def get_gendered_proba(sentence):\n",
    "    encoded_sent, masked_idx = encode_sentence(sentence)\n",
    "    predictions = model(encoded_sent)[0]\n",
    "    she_id = tokenizer.convert_tokens_to_ids('she')\n",
    "    he_id = tokenizer.convert_tokens_to_ids('he')\n",
    "    he_pred = predictions[0][masked_idx][he_id]\n",
    "    she_pred = predictions[0][masked_idx][she_id]\n",
    "    result = {'he': he_pred.numpy(), 'she': she_pred.numpy()}\n",
    "    return result"
   ]
  },
  {
   "cell_type": "code",
   "execution_count": 5,
   "metadata": {},
   "outputs": [
    {
     "name": "stdout",
     "output_type": "stream",
     "text": [
      "{'he': 5.499038, 'she': 4.537035}\n",
      "{'he': 3.7624776, 'she': 7.6048374}\n"
     ]
    }
   ],
   "source": [
    "print(get_gendered_proba(\"The doctor said that he would see the patient soon.\"))\n",
    "print(get_gendered_proba(\"The nurse said that she would see the patient soon.\"))"
   ]
  },
  {
   "cell_type": "code",
   "execution_count": 6,
   "metadata": {},
   "outputs": [
    {
     "data": {
      "text/plain": [
       "{'he': 6.5921617, 'she': 4.750877}"
      ]
     },
     "execution_count": 6,
     "metadata": {},
     "output_type": "execute_result"
    }
   ],
   "source": [
    "get_gendered_proba('The computer scientist said that he would not be able to attend the conferenece.')"
   ]
  },
  {
   "cell_type": "code",
   "execution_count": 7,
   "metadata": {},
   "outputs": [
    {
     "name": "stdout",
     "output_type": "stream",
     "text": [
      "{'he': 2.8195734, 'she': 3.1106071}\n",
      "{'he': 2.1894436, 'she': 2.1881497}\n"
     ]
    }
   ],
   "source": [
    "print(get_gendered_proba(\"The nurse treated the patient because she was caring.\"))\n",
    "print(get_gendered_proba(\"The nurse treated the patient because she was screaming.\"))"
   ]
  },
  {
   "cell_type": "code",
   "execution_count": 8,
   "metadata": {},
   "outputs": [
    {
     "data": {
      "text/plain": [
       "{'he': 4.77358, 'she': 4.026822}"
      ]
     },
     "execution_count": 8,
     "metadata": {},
     "output_type": "execute_result"
    }
   ],
   "source": [
    "get_gendered_proba(\"pat said that she was sorry\")"
   ]
  },
  {
   "cell_type": "markdown",
   "metadata": {},
   "source": [
    "# Visualization"
   ]
  },
  {
   "cell_type": "code",
   "execution_count": 9,
   "metadata": {},
   "outputs": [],
   "source": [
    "attnmodel = transformers.TFBertForMaskedLM.from_pretrained('bert-base-uncased', output_attentions=True)\n",
    "# note that documentation seems to be wrong -- we want output_attentions, not output_attention"
   ]
  },
  {
   "cell_type": "code",
   "execution_count": 10,
   "metadata": {},
   "outputs": [],
   "source": [
    "sentence = \"The doctor said that he would be late.\"\n",
    "encoded_sent, masked_idx = encode_sentence(sentence)\n",
    "output_attn = attnmodel(encoded_sent)\n",
    "output = model(encoded_sent)"
   ]
  },
  {
   "cell_type": "code",
   "execution_count": 11,
   "metadata": {},
   "outputs": [
    {
     "data": {
      "application/vnd.jupyter.widget-view+json": {
       "model_id": "ae0a5090b46b40528141492bb94e8e6a",
       "version_major": 2,
       "version_minor": 0
      },
      "text/plain": [
       "interactive(children=(IntSlider(value=0, description='layernum', max=11), IntSlider(value=0, description='attn…"
      ]
     },
     "metadata": {},
     "output_type": "display_data"
    },
    {
     "data": {
      "text/plain": [
       "<function __main__.display_heads(layernum, attnhead=0)>"
      ]
     },
     "execution_count": 11,
     "metadata": {},
     "output_type": "execute_result"
    }
   ],
   "source": [
    "sentence = \"The doctor said that he would be late.\"\n",
    "encoded_sent, masked_idx = encode_sentence(sentence)\n",
    "output_attn = attnmodel(encoded_sent)\n",
    "words = tokenizer.convert_ids_to_tokens(encoded_sent.numpy()[0])\n",
    "\n",
    "pd.set_option('precision', 4)\n",
    "\n",
    "def display_heads(layernum, attnhead = 0):\n",
    "    for word in encoded_sent[0]:\n",
    "        words = tokenizer.convert_ids_to_tokens(encoded_sent.numpy()[0])\n",
    "        df = pd.DataFrame(output_attn[1][layernum][0][attnhead].numpy())\n",
    "        df.columns = words\n",
    "        df.index = words\n",
    "        #return df\n",
    "        #return df.style.background_gradient(cmap='Blues', high=1.0)\n",
    "        return (df.style\n",
    "                .bar(color='lightblue', align='zero', vmax=1.0)\n",
    "                .set_caption(f'Layer {layernum}, Head {attnhead}')\n",
    "               )\n",
    "        \n",
    "\n",
    "interact(display_heads, \n",
    "         layernum=widgets.IntSlider(min=0, max=len(output_attn[1])-1, step=1),\n",
    "         attnhead=widgets.IntSlider(min=0, max=len(output_attn[1][0][0])-1, step=1)\n",
    "        )"
   ]
  },
  {
   "cell_type": "code",
   "execution_count": 12,
   "metadata": {},
   "outputs": [
    {
     "data": {
      "application/vnd.jupyter.widget-view+json": {
       "model_id": "d10a41b1b88646fd9e015c9c316bff9b",
       "version_major": 2,
       "version_minor": 0
      },
      "text/plain": [
       "interactive(children=(IntSlider(value=0, description='layernum', max=11), IntSlider(value=0, description='attn…"
      ]
     },
     "metadata": {},
     "output_type": "display_data"
    },
    {
     "data": {
      "text/plain": [
       "<function __main__.display_heads(layernum, attnhead=0)>"
      ]
     },
     "execution_count": 12,
     "metadata": {},
     "output_type": "execute_result"
    }
   ],
   "source": [
    "def display_heads(layernum, attnhead = 0):\n",
    "    for word in encoded_sent[0]:\n",
    "        words = tokenizer.convert_ids_to_tokens(encoded_sent.numpy()[0])\n",
    "        df = pd.DataFrame(output_attn[1][layernum][0][attnhead].numpy())\n",
    "        df.columns = words\n",
    "        df.index = words\n",
    "        #return df\n",
    "        return (df.style\n",
    "                .background_gradient(cmap='Blues', high=1.0)\n",
    "                .set_caption(f'Layer {layernum}, Head {attnhead}')\n",
    "               )\n",
    "        \n",
    "\n",
    "interact(display_heads, \n",
    "         layernum=widgets.IntSlider(min=0, max=len(output_attn[1])-1, step=1),\n",
    "         attnhead=widgets.IntSlider(min=0, max=len(output_attn[1][0][0])-1, step=1)\n",
    "        )"
   ]
  }
 ],
 "metadata": {
  "kernelspec": {
   "display_name": "Python [conda env:tensorflow]",
   "language": "python",
   "name": "conda-env-tensorflow-py"
  },
  "language_info": {
   "codemirror_mode": {
    "name": "ipython",
    "version": 3
   },
   "file_extension": ".py",
   "mimetype": "text/x-python",
   "name": "python",
   "nbconvert_exporter": "python",
   "pygments_lexer": "ipython3",
   "version": "3.7.6"
  }
 },
 "nbformat": 4,
 "nbformat_minor": 2
}
